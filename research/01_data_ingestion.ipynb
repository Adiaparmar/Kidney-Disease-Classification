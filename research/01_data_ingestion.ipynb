{
 "cells": [
  {
   "cell_type": "code",
   "execution_count": 1,
   "metadata": {},
   "outputs": [],
   "source": [
    "import os\n",
    "os.chdir(\"../\")"
   ]
  },
  {
   "cell_type": "code",
   "execution_count": 2,
   "metadata": {},
   "outputs": [],
   "source": [
    "from dataclasses import dataclass\n",
    "from pathlib import Path\n",
    "\n",
    "@dataclass(frozen=True)\n",
    "class DataIngestionConfig:\n",
    "  root_dir: Path\n",
    "  source_url: str\n",
    "  local_data_file: Path\n",
    "  unzip_dir: Path"
   ]
  },
  {
   "cell_type": "code",
   "execution_count": 3,
   "metadata": {},
   "outputs": [],
   "source": [
    "from cnnClassifier.constants import *\n",
    "from cnnClassifier.utils.common import read_yaml, create_directories"
   ]
  },
  {
   "cell_type": "code",
   "execution_count": null,
   "metadata": {},
   "outputs": [],
   "source": [
    "class ConfigurationManager:\n",
    "  def __init__(\n",
    "    self,\n",
    "    config_filepath = CONFIG_FILE_PATH,\n",
    "    params_filepath = PARAMS_FILE_PATH\n",
    "  ):\n",
    "    self.config = read_yaml(config_filepath)\n",
    "    self.params = read_yaml(params_filepath)\n",
    "\n",
    "    create_directories([Path(self.config.artifacts_root)])\n",
    "\n",
    "  def get_data_ingestion_config(self) -> DataIngestionConfig:\n",
    "    config = self.config.data_ingestion\n",
    "\n",
    "    create_directories([Path(config.root_dir)])\n",
    "\n",
    "    data_ingestion_config = DataIngestionConfig(\n",
    "      root_dir=config.root_dir,\n",
    "      source_url=config.source_URL,\n",
    "      local_data_file=config.local_data_file,\n",
    "      unzip_dir=config.unzip_dir\n",
    "    )\n",
    "\n",
    "    return data_ingestion_config"
   ]
  },
  {
   "cell_type": "code",
   "execution_count": 5,
   "metadata": {},
   "outputs": [],
   "source": [
    "import os\n",
    "import zipfile\n",
    "import gdown\n",
    "from cnnClassifier import logger\n",
    "from cnnClassifier.utils.common import get_size"
   ]
  },
  {
   "cell_type": "code",
   "execution_count": null,
   "metadata": {},
   "outputs": [],
   "source": [
    "class DataIngestion:\n",
    "  def __init__(self, config:DataIngestionConfig):\n",
    "    self.config = config\n",
    "\n",
    "  def download_file(self) -> str:\n",
    "    try:\n",
    "      dataset_url = self.config.source_url\n",
    "      zip_download_dir = self.config.local_data_file\n",
    "      os.makedirs(\"artifacts/data_ingestion\", exist_ok=True)\n",
    "      logger.info(f\"Downloading file from :[{dataset_url}] to :[{zip_download_dir}]\")\n",
    "\n",
    "      file_id = dataset_url.split('/')[-2]\n",
    "      prefix = 'https://drive.google.com/uc?/export=download&id='\n",
    "      gdown.download(prefix + file_id,zip_download_dir)\n",
    "\n",
    "      logger.info(f\"Download data from [{dataset_url}] to :[{zip_download_dir}] \")\n",
    "    except Exception as e:\n",
    "      logger.error(f\"Error occurred while downloading file from [{dataset_url}] to :[{zip_download_dir}]\")\n",
    "\n",
    "\n",
    "  def extract_zip_file(self) :\n",
    "    unzip_path = self.config.unzip_dir\n",
    "    os.makedirs(unzip_path, exist_ok=True)\n",
    "    with zipfile.ZipFile(self.config.local_data_file, 'r') as zip_ref:\n",
    "      zip_ref.extractall(unzip_path)"
   ]
  },
  {
   "cell_type": "code",
   "execution_count": 13,
   "metadata": {},
   "outputs": [
    {
     "name": "stdout",
     "output_type": "stream",
     "text": [
      "[2025-10-20 00:10:27,437: INFO: common: yaml file: config\\config.yaml loaded successfully]\n",
      "[2025-10-20 00:10:27,439: INFO: common: yaml file: params.yaml loaded successfully]\n",
      "[2025-10-20 00:10:27,440: INFO: common: created directory at: artifacts]\n",
      "[2025-10-20 00:10:27,440: INFO: common: created directory at: artifacts\\data_ingestion]\n",
      "[2025-10-20 00:10:27,440: INFO: 582219750: Downloading file from :[https://drive.google.com/file/d/1h1jzZ307vV6pKkaERxFF4jn9wne9XHp7/view?usp=sharing] to :[artifacts/data_ingestion/data.zip]]\n"
     ]
    },
    {
     "name": "stderr",
     "output_type": "stream",
     "text": [
      "Downloading...\n",
      "From (original): https://drive.google.com/uc?/export=download&id=1h1jzZ307vV6pKkaERxFF4jn9wne9XHp7\n",
      "From (redirected): https://drive.google.com/uc?%2Fexport=download&id=1h1jzZ307vV6pKkaERxFF4jn9wne9XHp7&confirm=t&uuid=f7c9b135-6b94-493f-bd47-48dd1f36525e\n",
      "To: d:\\Python Projects\\Kidney-Disease-Classification\\artifacts\\data_ingestion\\data.zip\n",
      "100%|██████████| 940M/940M [04:07<00:00, 3.80MB/s] \n"
     ]
    },
    {
     "name": "stdout",
     "output_type": "stream",
     "text": [
      "[2025-10-20 00:14:38,923: INFO: 582219750: Download data from [https://drive.google.com/file/d/1h1jzZ307vV6pKkaERxFF4jn9wne9XHp7/view?usp=sharing] to :[artifacts/data_ingestion/data.zip] ]\n"
     ]
    }
   ],
   "source": [
    "try:\n",
    "  config = ConfigurationManager()\n",
    "  data_ingestion_config = config.get_data_ingestion_config()\n",
    "  data_ingestion = DataIngestion(config=data_ingestion_config)\n",
    "  data_ingestion.download_file()\n",
    "  data_ingestion.extract_zip_file()\n",
    "\n",
    "except Exception as e:\n",
    "  raise e"
   ]
  },
  {
   "cell_type": "code",
   "execution_count": null,
   "metadata": {},
   "outputs": [],
   "source": []
  }
 ],
 "metadata": {
  "kernelspec": {
   "display_name": ".venv",
   "language": "python",
   "name": "python3"
  },
  "language_info": {
   "codemirror_mode": {
    "name": "ipython",
    "version": 3
   },
   "file_extension": ".py",
   "mimetype": "text/x-python",
   "name": "python",
   "nbconvert_exporter": "python",
   "pygments_lexer": "ipython3",
   "version": "3.11.9"
  }
 },
 "nbformat": 4,
 "nbformat_minor": 2
}

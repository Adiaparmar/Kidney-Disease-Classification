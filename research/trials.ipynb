{
 "cells": [
  {
   "cell_type": "code",
   "execution_count": 1,
   "metadata": {},
   "outputs": [],
   "source": [
    "# Download data from gdrive\n",
    "\n",
    "import gdown\n",
    "\n",
    "url = \"https://drive.google.com/file/d/1h1jzZ307vV6pKkaERxFF4jn9wne9XHp7/view?usp=sharing\""
   ]
  },
  {
   "cell_type": "code",
   "execution_count": 2,
   "metadata": {},
   "outputs": [
    {
     "data": {
      "text/plain": [
       "'1h1jzZ307vV6pKkaERxFF4jn9wne9XHp7'"
      ]
     },
     "execution_count": 2,
     "metadata": {},
     "output_type": "execute_result"
    }
   ],
   "source": [
    "file_id = url.split(\"/\")[-2]\n",
    "file_id"
   ]
  },
  {
   "cell_type": "code",
   "execution_count": 4,
   "metadata": {},
   "outputs": [
    {
     "name": "stderr",
     "output_type": "stream",
     "text": [
      "Downloading...\n",
      "From (original): https://drive.google.com/uc?/export=download&id=1h1jzZ307vV6pKkaERxFF4jn9wne9XHp7\n",
      "From (redirected): https://drive.google.com/uc?%2Fexport=download&id=1h1jzZ307vV6pKkaERxFF4jn9wne9XHp7&confirm=t&uuid=3bd417c0-8149-48ef-8ad5-22536b59d6e5\n",
      "To: d:\\Python Projects\\Kidney-Disease-Classification\\research\\kidney-ct-scan-image.zip\n",
      "100%|██████████| 940M/940M [04:06<00:00, 3.81MB/s] \n"
     ]
    },
    {
     "data": {
      "text/plain": [
       "'kidney-ct-scan-image.zip'"
      ]
     },
     "execution_count": 4,
     "metadata": {},
     "output_type": "execute_result"
    }
   ],
   "source": [
    "prefix = 'https://drive.google.com/uc?/export=download&id='\n",
    "gdown.download(prefix + file_id, \"kidney-ct-scan-image.zip\")"
   ]
  }
 ],
 "metadata": {
  "kernelspec": {
   "display_name": ".venv",
   "language": "python",
   "name": "python3"
  },
  "language_info": {
   "codemirror_mode": {
    "name": "ipython",
    "version": 3
   },
   "file_extension": ".py",
   "mimetype": "text/x-python",
   "name": "python",
   "nbconvert_exporter": "python",
   "pygments_lexer": "ipython3",
   "version": "3.11.9"
  }
 },
 "nbformat": 4,
 "nbformat_minor": 2
}
